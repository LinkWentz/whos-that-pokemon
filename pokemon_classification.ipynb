{
 "cells": [
  {
   "cell_type": "code",
   "execution_count": null,
   "id": "51a02f10-bb50-441a-bcd7-b558228400fd",
   "metadata": {},
   "outputs": [],
   "source": []
  }
 ],
 "metadata": {
  "kernelspec": {
   "display_name": "Python 3",
   "language": "python",
   "name": "python3"
  },
  "language_info": {
   "name": ""
  }
 },
 "nbformat": 4,
 "nbformat_minor": 5
}
