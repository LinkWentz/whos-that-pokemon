{
 "cells": [
  {
   "cell_type": "code",
   "execution_count": 1,
   "id": "51a02f10-bb50-441a-bcd7-b558228400fd",
   "metadata": {},
   "outputs": [],
   "source": [
    "import matplotlib.pyplot as plt\n",
    "import numpy as np\n",
    "import pandas as pd\n",
    "import tensorflow as tf"
   ]
  },
  {
   "cell_type": "code",
   "execution_count": 3,
   "id": "422ba46b-da71-4acf-8ff2-0c76e9d271a4",
   "metadata": {},
   "outputs": [],
   "source": [
    "from tensorflow.keras.preprocessing.image import ImageDataGenerator"
   ]
  },
  {
   "cell_type": "code",
   "execution_count": 72,
   "id": "f4daea03-bb3e-4abf-83e4-f05531168a3e",
   "metadata": {},
   "outputs": [],
   "source": [
    "def generate_dataset_from_directory(path, count, target_size = (244, 244), \n",
    "    generator = ImageDataGenerator()):\n",
    "    \"\"\"\n",
    "    Randomly sample images with replacement from the provided directory, using \n",
    "    the containing folders of each image as labels, and randomly augment them\n",
    "    using a keras ImageDataGenerator.\n",
    "    \n",
    "    Args:\n",
    "        path: The directory in which the images you would like to sample from\n",
    "        are contained.\n",
    "        count: The amount of images you would like in the final dataset.\n",
    "        target_size: The size all of the images should be resized to.\n",
    "            default: (244, 244)\n",
    "        generator: ImageDataGenerator to use for sampling and augmentation of\n",
    "        images.\n",
    "            default: ImageDataGenerator()\n",
    "    \n",
    "    Returns:\n",
    "        images: List of length \"count\" containing an augmented set of randomly\n",
    "        sampled images from the specfiied directory.\n",
    "        labels: One-hot labels corresponding to each image in \"images\"\n",
    "    \"\"\"\n",
    "    # Set up flow from provided directory.\n",
    "    flow = gen.flow_from_directory(path, target_size = target_size, \n",
    "        batch_size = 5)\n",
    "    \n",
    "    # Set up loop variables.\n",
    "    images = []\n",
    "    labels = []\n",
    "    \n",
    "    while len(images) < count:\n",
    "        next_images, next_labels = flow.next()\n",
    "        images.extend(next_images)\n",
    "        labels.extend(next_labels)\n",
    "    # Cut off any extra unwanted images.\n",
    "    images = images[:count]\n",
    "    labels = labels[:count]\n",
    "    \n",
    "    return images, labels"
   ]
  },
  {
   "cell_type": "code",
   "execution_count": 73,
   "id": "f78baaa9-675e-4fbb-a250-4a912a8f50d8",
   "metadata": {},
   "outputs": [
    {
     "name": "stdout",
     "output_type": "stream",
     "text": [
      "Found 3444 images belonging to 150 classes.\n",
      "Found 3376 images belonging to 150 classes.\n"
     ]
    }
   ],
   "source": [
    "# Define custom parameters for data augmentation.\n",
    "data_generator = ImageDataGenerator(horizontal_flip = True, \n",
    "    height_shift_range = 0.05, width_shift_range = 0.05, zoom_range = 0.2, \n",
    "    brightness_range = [0.9, 1.5])\n",
    "\n",
    "X_train, Y_train = generate_dataset_from_directory('Train', 2000, \n",
    "    target_size = (244, 244), generator = data_generator)\n",
    "X_test, Y_test = generate_dataset_from_directory('Test', 500, \n",
    "    target_size = (244, 244), generator = data_generator)"
   ]
  },
  {
   "cell_type": "code",
   "execution_count": 74,
   "id": "69a0f4f5-d659-4a0c-aa1c-ef4ff452847d",
   "metadata": {},
   "outputs": [
    {
     "data": {
      "text/plain": [
       "(True, True, 2000, 500)"
      ]
     },
     "execution_count": 74,
     "metadata": {},
     "output_type": "execute_result"
    }
   ],
   "source": [
    "len(X_train) == len(Y_train),\\\n",
    "len(X_test) == len(Y_test),\\\n",
    "len(X_train),\\\n",
    "len(X_test)"
   ]
  }
 ],
 "metadata": {
  "kernelspec": {
   "display_name": "Python (pokemon_classifier)",
   "language": "python",
   "name": "myenv"
  },
  "language_info": {
   "codemirror_mode": {
    "name": "ipython",
    "version": 3
   },
   "file_extension": ".py",
   "mimetype": "text/x-python",
   "name": "python",
   "nbconvert_exporter": "python",
   "pygments_lexer": "ipython3",
   "version": "3.9.7"
  }
 },
 "nbformat": 4,
 "nbformat_minor": 5
}
